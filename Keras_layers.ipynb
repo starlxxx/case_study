{
 "cells": [
  {
   "cell_type": "code",
   "execution_count": 99,
   "id": "e2566665",
   "metadata": {},
   "outputs": [],
   "source": [
    "import tensorflow as tf\n",
    "from tensorflow.keras import datasets,layers,optimizers,Sequential,metrics\n",
    "from tensorflow import keras"
   ]
  },
  {
   "cell_type": "code",
   "execution_count": 40,
   "id": "92657c07",
   "metadata": {},
   "outputs": [],
   "source": [
    "(x,y),(x_val,y_val) = datasets.mnist.load_data() "
   ]
  },
  {
   "cell_type": "code",
   "execution_count": 42,
   "id": "22cff7ee",
   "metadata": {},
   "outputs": [
    {
     "data": {
      "text/plain": [
       "TensorShape([60000, 784])"
      ]
     },
     "execution_count": 42,
     "metadata": {},
     "output_type": "execute_result"
    }
   ],
   "source": [
    "x.shape"
   ]
  },
  {
   "cell_type": "code",
   "execution_count": null,
   "id": "ac1233af",
   "metadata": {},
   "outputs": [],
   "source": []
  },
  {
   "cell_type": "code",
   "execution_count": 101,
   "id": "643235e0",
   "metadata": {},
   "outputs": [],
   "source": [
    "def preprocess(x,y):\n",
    "    x = tf.cast(x,dtype= tf.float32) / 255.\n",
    "    x = tf.reshape(x,[28*28])\n",
    "    y = tf.cast(y,dtype= tf.int32)\n",
    "    y = tf.one_hot(y,depth=10)\n",
    "    return x,y"
   ]
  },
  {
   "cell_type": "code",
   "execution_count": 102,
   "id": "1b8f22b0",
   "metadata": {},
   "outputs": [],
   "source": [
    "batchsz = 128\n",
    "db = tf.data.Dataset.from_tensor_slices((x,y))\n",
    "db = db.map(preprocess).shuffle(100000).batch(batchsz)\n",
    "db_val = tf.data.Dataset.from_tensor_slices((x_val,y_val))\n",
    "db_val = db_val.map(preprocess).batch(batchsz)"
   ]
  },
  {
   "cell_type": "code",
   "execution_count": 117,
   "id": "faa83324",
   "metadata": {},
   "outputs": [
    {
     "data": {
      "text/plain": [
       "TensorShape([128, 784])"
      ]
     },
     "execution_count": 117,
     "metadata": {},
     "output_type": "execute_result"
    }
   ],
   "source": [
    "sample = next(iter(db))\n",
    "sample[0].shape"
   ]
  },
  {
   "cell_type": "code",
   "execution_count": 105,
   "id": "6a36b258",
   "metadata": {},
   "outputs": [
    {
     "name": "stdout",
     "output_type": "stream",
     "text": [
      "Model: \"sequential_3\"\n",
      "_________________________________________________________________\n",
      "Layer (type)                 Output Shape              Param #   \n",
      "=================================================================\n",
      "dense_15 (Dense)             (None, 256)               200960    \n",
      "_________________________________________________________________\n",
      "dense_16 (Dense)             (None, 128)               32896     \n",
      "_________________________________________________________________\n",
      "dense_17 (Dense)             (None, 64)                8256      \n",
      "_________________________________________________________________\n",
      "dense_18 (Dense)             (None, 32)                2080      \n",
      "_________________________________________________________________\n",
      "dense_19 (Dense)             (None, 10)                330       \n",
      "=================================================================\n",
      "Total params: 244,522\n",
      "Trainable params: 244,522\n",
      "Non-trainable params: 0\n",
      "_________________________________________________________________\n"
     ]
    }
   ],
   "source": [
    "#创建网络结构\n",
    "network = Sequential([layers.Dense(256, activation='relu'),\n",
    "                     layers.Dense(128, activation='relu'),\n",
    "                     layers.Dense(64, activation='relu'),\n",
    "                     layers.Dense(32, activation='relu'),\n",
    "                     layers.Dense(10)])\n",
    "network.build(input_shape=(None, 28*28))\n",
    "network.summary()"
   ]
  },
  {
   "cell_type": "code",
   "execution_count": 96,
   "id": "ccddfb0e",
   "metadata": {},
   "outputs": [
    {
     "data": {
      "text/plain": [
       "TensorShape([784, 256])"
      ]
     },
     "execution_count": 96,
     "metadata": {},
     "output_type": "execute_result"
    }
   ],
   "source": [
    "network.trainable_variables[0].shape"
   ]
  },
  {
   "cell_type": "code",
   "execution_count": 106,
   "id": "08acd58f",
   "metadata": {},
   "outputs": [],
   "source": [
    "network.compile(optimizer=optimizers.Adam(learning_rate= 0.01),\n",
    "                loss=tf.losses.CategoricalCrossentropy(from_logits= True),\n",
    "                metrics=['accuracy']\n",
    ")"
   ]
  },
  {
   "cell_type": "code",
   "execution_count": 107,
   "id": "0b0cfd36",
   "metadata": {},
   "outputs": [
    {
     "name": "stdout",
     "output_type": "stream",
     "text": [
      "Epoch 1/5\n",
      "469/469 [==============================] - 3s 3ms/step - loss: 0.2699 - accuracy: 0.9195\n",
      "Epoch 2/5\n",
      "469/469 [==============================] - 3s 4ms/step - loss: 0.1353 - accuracy: 0.9615 - val_loss: 0.1296 - val_accuracy: 0.9655\n",
      "Epoch 3/5\n",
      "469/469 [==============================] - 3s 3ms/step - loss: 0.1122 - accuracy: 0.9690\n",
      "Epoch 4/5\n",
      "469/469 [==============================] - 3s 4ms/step - loss: 0.0975 - accuracy: 0.9742 - val_loss: 0.1224 - val_accuracy: 0.9686\n",
      "Epoch 5/5\n",
      "469/469 [==============================] - 3s 3ms/step - loss: 0.0834 - accuracy: 0.9775\n",
      "79/79 [==============================] - 0s 4ms/step - loss: 0.1366 - accuracy: 0.9653\n"
     ]
    },
    {
     "data": {
      "text/plain": [
       "[0.13662420213222504, 0.9653000235557556]"
      ]
     },
     "execution_count": 107,
     "metadata": {},
     "output_type": "execute_result"
    }
   ],
   "source": [
    "network.fit(db,epochs= 5,validation_data=db_val,validation_freq=2)\n",
    "network.evaluate(db_val)"
   ]
  },
  {
   "cell_type": "code",
   "execution_count": 75,
   "id": "2accd4e5",
   "metadata": {},
   "outputs": [],
   "source": [
    "pred = network.predict(x)"
   ]
  },
  {
   "cell_type": "code",
   "execution_count": 76,
   "id": "ac674d5c",
   "metadata": {},
   "outputs": [],
   "source": [
    "pred = tf.argmax(pred, axis=1)"
   ]
  },
  {
   "cell_type": "code",
   "execution_count": 64,
   "id": "a1d5cc37",
   "metadata": {},
   "outputs": [
    {
     "data": {
      "text/plain": [
       "<tf.Tensor: shape=(60000,), dtype=int64, numpy=array([5, 0, 4, ..., 5, 6, 8])>"
      ]
     },
     "execution_count": 64,
     "metadata": {},
     "output_type": "execute_result"
    }
   ],
   "source": [
    "pred"
   ]
  },
  {
   "cell_type": "code",
   "execution_count": null,
   "id": "716286ff",
   "metadata": {},
   "outputs": [],
   "source": [
    "##自定义层或网络"
   ]
  },
  {
   "cell_type": "code",
   "execution_count": 125,
   "id": "b8fa544c",
   "metadata": {},
   "outputs": [],
   "source": [
    "# 自定义层\n",
    "class MyDense(layers.Layer):\n",
    "    def __init__(self,in_dim,out_dim):\n",
    "        super(MyDense,self).__init__()\n",
    "        self.kernel = self.add_weight('w',[in_dim,out_dim])\n",
    "        self.bias = self.add_weight('b',[out_dim])\n",
    "    def call(self,inputs,training = None):\n",
    "        out = inputs@self.kernel+self.bias\n",
    "        return out"
   ]
  },
  {
   "cell_type": "code",
   "execution_count": 120,
   "id": "4c4113ab",
   "metadata": {},
   "outputs": [],
   "source": [
    "#自定义网络\n",
    "class MyModel(keras.Model):\n",
    "    def __init__(self):\n",
    "        super(MyModel,self).__init__()\n",
    "        self.fc1 = MyDense(28*28,256)\n",
    "        self.fc2 = MyDense(256,128)\n",
    "        self.fc3 = MyDense(128,64)\n",
    "        self.fc4 = MyDense(64,32)\n",
    "        self.fc5 = MyDense(32,10)\n",
    "    def call(self,inputs,training = None):\n",
    "        x = self.fc1(inputs)\n",
    "        x = tf.nn.relu(x)\n",
    "        x = self.fc2(x)\n",
    "        x = tf.nn.relu(x)\n",
    "        x = self.fc3(x)\n",
    "        x = tf.nn.relu(x)\n",
    "        x = self.fc4(x)\n",
    "        x = tf.nn.relu(x)\n",
    "        x = self.fc5(x)\n",
    "        \n",
    "        return x"
   ]
  },
  {
   "cell_type": "code",
   "execution_count": 121,
   "id": "7fc42cf4",
   "metadata": {},
   "outputs": [],
   "source": [
    "network1 = MyModel()\n",
    "network1.compile(optimizer=optimizers.Adam(learning_rate= 0.01),\n",
    "                loss=tf.losses.CategoricalCrossentropy(from_logits= True),\n",
    "                metrics=['accuracy']\n",
    ")"
   ]
  },
  {
   "cell_type": "code",
   "execution_count": 122,
   "id": "dc6b7dbd",
   "metadata": {},
   "outputs": [
    {
     "name": "stdout",
     "output_type": "stream",
     "text": [
      "Epoch 1/5\n",
      "469/469 [==============================] - 4s 3ms/step - loss: 0.2822 - accuracy: 0.9149\n",
      "Epoch 2/5\n",
      "469/469 [==============================] - 3s 4ms/step - loss: 0.1352 - accuracy: 0.9615 - val_loss: 0.1136 - val_accuracy: 0.9682\n",
      "Epoch 3/5\n",
      "469/469 [==============================] - 3s 3ms/step - loss: 0.1110 - accuracy: 0.9690\n",
      "Epoch 4/5\n",
      "469/469 [==============================] - 3s 4ms/step - loss: 0.0967 - accuracy: 0.9736 - val_loss: 0.1245 - val_accuracy: 0.9691\n",
      "Epoch 5/5\n",
      "469/469 [==============================] - 3s 4ms/step - loss: 0.0941 - accuracy: 0.9756\n",
      "79/79 [==============================] - 0s 4ms/step - loss: 0.1194 - accuracy: 0.9741\n"
     ]
    },
    {
     "data": {
      "text/plain": [
       "[0.11940108984708786, 0.9740999937057495]"
      ]
     },
     "execution_count": 122,
     "metadata": {},
     "output_type": "execute_result"
    }
   ],
   "source": [
    "network1.fit(db,epochs= 5,validation_data=db_val,validation_freq=2)\n",
    "network1.evaluate(db_val)"
   ]
  },
  {
   "cell_type": "code",
   "execution_count": 130,
   "id": "9420bca8",
   "metadata": {},
   "outputs": [],
   "source": [
    "#权值保存\n",
    "network1.save_weights('./network.ckpt')"
   ]
  },
  {
   "cell_type": "code",
   "execution_count": 131,
   "id": "5e2ea9a0",
   "metadata": {},
   "outputs": [],
   "source": [
    "network2 = MyModel()\n",
    "network2.compile(optimizer=optimizers.Adam(learning_rate= 0.01),\n",
    "                loss=tf.losses.CategoricalCrossentropy(from_logits= True),\n",
    "                metrics=['accuracy']\n",
    ")"
   ]
  },
  {
   "cell_type": "code",
   "execution_count": 132,
   "id": "b885eb81",
   "metadata": {},
   "outputs": [
    {
     "data": {
      "text/plain": [
       "<tensorflow.python.training.tracking.util.CheckpointLoadStatus at 0x158134f70>"
      ]
     },
     "execution_count": 132,
     "metadata": {},
     "output_type": "execute_result"
    }
   ],
   "source": [
    "#权值加载\n",
    "network2.load_weights('./network.ckpt')"
   ]
  },
  {
   "cell_type": "code",
   "execution_count": 133,
   "id": "fb9a73da",
   "metadata": {},
   "outputs": [
    {
     "name": "stdout",
     "output_type": "stream",
     "text": [
      "79/79 [==============================] - 1s 4ms/step - loss: 0.1194 - accuracy: 0.9741\n"
     ]
    },
    {
     "data": {
      "text/plain": [
       "[0.11940108984708786, 0.9740999937057495]"
      ]
     },
     "execution_count": 133,
     "metadata": {},
     "output_type": "execute_result"
    }
   ],
   "source": [
    "network2.evaluate(db_val)"
   ]
  },
  {
   "cell_type": "code",
   "execution_count": null,
   "id": "57f4acaa",
   "metadata": {},
   "outputs": [],
   "source": [
    "#保存整个模型\n",
    "network.save('model.h5')\n",
    "#加载模型\n",
    "net = tf.keras.models.load_model('model.h5')\n",
    "net.evaluate(db_val)"
   ]
  },
  {
   "cell_type": "code",
   "execution_count": null,
   "id": "06aa1a59",
   "metadata": {},
   "outputs": [],
   "source": [
    "#保存整个结构 可用于c++或其他语言\n",
    "tf.saved_model.save(m,'...')\n",
    "imported = tf.saved_model.load(path)\n",
    "f = imported.signatures[\"serving_default\"]\n",
    "print(f(x = tf.ones([1,28,28,3])))"
   ]
  }
 ],
 "metadata": {
  "kernelspec": {
   "display_name": "Python 3",
   "language": "python",
   "name": "python3"
  },
  "language_info": {
   "codemirror_mode": {
    "name": "ipython",
    "version": 3
   },
   "file_extension": ".py",
   "mimetype": "text/x-python",
   "name": "python",
   "nbconvert_exporter": "python",
   "pygments_lexer": "ipython3",
   "version": "3.8.8"
  }
 },
 "nbformat": 4,
 "nbformat_minor": 5
}
