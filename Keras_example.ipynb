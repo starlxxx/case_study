{
 "cells": [
  {
   "cell_type": "code",
   "execution_count": 1,
   "id": "740ab841",
   "metadata": {},
   "outputs": [],
   "source": [
    "import tensorflow as tf\n",
    "from tensorflow.keras import optimizers, Sequential,layers,metrics,datasets\n",
    "from tensorflow import keras"
   ]
  },
  {
   "cell_type": "code",
   "execution_count": 47,
   "id": "572d684d",
   "metadata": {},
   "outputs": [],
   "source": [
    "(x,y),(x_val,y_val) = datasets.fashion_mnist.load_data()"
   ]
  },
  {
   "cell_type": "code",
   "execution_count": 9,
   "id": "6314eeb2",
   "metadata": {},
   "outputs": [],
   "source": [
    "def preprocess(x,y):\n",
    "    x = 2*tf.cast(x,dtype= tf.float32) / 255. -1.\n",
    "    y = tf.cast(y,dtype= tf.int32)   \n",
    "    return x,y"
   ]
  },
  {
   "cell_type": "code",
   "execution_count": 48,
   "id": "2dab8d0f",
   "metadata": {},
   "outputs": [],
   "source": [
    "y = tf.one_hot(y,depth=10)\n"
   ]
  },
  {
   "cell_type": "code",
   "execution_count": 50,
   "id": "ba82c924",
   "metadata": {},
   "outputs": [],
   "source": [
    "y_val = tf.squeeze(y_val)"
   ]
  },
  {
   "cell_type": "code",
   "execution_count": 52,
   "id": "f47aa616",
   "metadata": {},
   "outputs": [],
   "source": [
    "y_val = tf.one_hot(y_val,depth=10)"
   ]
  },
  {
   "cell_type": "code",
   "execution_count": null,
   "id": "8e7c8a21",
   "metadata": {},
   "outputs": [],
   "source": []
  },
  {
   "cell_type": "code",
   "execution_count": 56,
   "id": "852adfa1",
   "metadata": {},
   "outputs": [],
   "source": [
    "batchsz = 128\n",
    "db = tf.data.Dataset.from_tensor_slices((x,y))\n",
    "db = db.map(preprocess).shuffle(10000).batch(batchsz)\n",
    "db_test = tf.data.Dataset.from_tensor_slices((x_val,y_val))\n",
    "db_test = db_test.map(preprocess).batch(batchsz)"
   ]
  },
  {
   "cell_type": "code",
   "execution_count": 57,
   "id": "43ca3dac",
   "metadata": {},
   "outputs": [
    {
     "data": {
      "text/plain": [
       "TensorShape([128, 10])"
      ]
     },
     "execution_count": 57,
     "metadata": {},
     "output_type": "execute_result"
    }
   ],
   "source": [
    "next(iter(db_test))[1].shape"
   ]
  },
  {
   "cell_type": "code",
   "execution_count": 63,
   "id": "586d8626",
   "metadata": {},
   "outputs": [],
   "source": [
    "# 自定义层\n",
    "class MyDense(layers.Layer):\n",
    "    def __init__(self,in_dim,out_dim):\n",
    "        super(MyDense,self).__init__()\n",
    "        self.kernel = self.add_weight('w',[in_dim,out_dim])\n",
    "#         self.bias = self.add_weight('b',[out_dim])\n",
    "    def call(self,inputs,training = None):\n",
    "        out = inputs@self.kernel\n",
    "        return out"
   ]
  },
  {
   "cell_type": "code",
   "execution_count": 65,
   "id": "d295df2a",
   "metadata": {},
   "outputs": [],
   "source": [
    "class MyModel(keras.Model):\n",
    "    def __init__(self):\n",
    "        super(MyModel,self).__init__()\n",
    "        self.fc1 = MyDense(28*28,256)\n",
    "        self.fc2 = MyDense(256,128)\n",
    "        self.fc3 = MyDense(128,64)\n",
    "        self.fc4 = MyDense(64,32)\n",
    "        self.fc5 = MyDense(32,10)\n",
    "    def call(self,inputs,training = None):\n",
    "        x = tf.reshape(inputs,[-1,28*28])\n",
    "        x = self.fc1(x)\n",
    "        x = tf.nn.relu(x)\n",
    "        x = self.fc2(x)\n",
    "        x = tf.nn.relu(x)\n",
    "        x = self.fc3(x)\n",
    "        x = tf.nn.relu(x)\n",
    "        x = self.fc4(x)\n",
    "        x = tf.nn.relu(x)\n",
    "        x = self.fc5(x)\n",
    "    \n",
    "        return x"
   ]
  },
  {
   "cell_type": "code",
   "execution_count": 66,
   "id": "58b7fe8b",
   "metadata": {},
   "outputs": [],
   "source": [
    "network = MyModel()\n",
    "network.compile(optimizer=optimizers.Adam(learning_rate= 0.01),\n",
    "                loss=tf.losses.CategoricalCrossentropy(from_logits= True),\n",
    "                metrics=['accuracy']\n",
    ")"
   ]
  },
  {
   "cell_type": "code",
   "execution_count": 67,
   "id": "c0416051",
   "metadata": {},
   "outputs": [
    {
     "name": "stdout",
     "output_type": "stream",
     "text": [
      "Epoch 1/5\n",
      "469/469 [==============================] - 3s 5ms/step - loss: 0.6083 - accuracy: 0.7843\n",
      "Epoch 2/5\n",
      "469/469 [==============================] - 3s 6ms/step - loss: 0.4287 - accuracy: 0.8466 - val_loss: 0.4331 - val_accuracy: 0.8431\n",
      "Epoch 3/5\n",
      "469/469 [==============================] - 3s 5ms/step - loss: 0.3953 - accuracy: 0.8577\n",
      "Epoch 4/5\n",
      "469/469 [==============================] - 3s 6ms/step - loss: 0.3739 - accuracy: 0.8672 - val_loss: 0.4370 - val_accuracy: 0.8471\n",
      "Epoch 5/5\n",
      "469/469 [==============================] - 3s 5ms/step - loss: 0.3630 - accuracy: 0.8716\n",
      "79/79 [==============================] - 0s 3ms/step - loss: 0.4285 - accuracy: 0.8516\n"
     ]
    },
    {
     "data": {
      "text/plain": [
       "[0.42854413390159607, 0.8515999913215637]"
      ]
     },
     "execution_count": 67,
     "metadata": {},
     "output_type": "execute_result"
    }
   ],
   "source": [
    "network.fit(db,epochs= 5,validation_data=db_test,validation_freq=2)\n",
    "network.evaluate(db_test)"
   ]
  },
  {
   "cell_type": "code",
   "execution_count": null,
   "id": "e41ae7df",
   "metadata": {},
   "outputs": [],
   "source": []
  }
 ],
 "metadata": {
  "kernelspec": {
   "display_name": "Python 3",
   "language": "python",
   "name": "python3"
  },
  "language_info": {
   "codemirror_mode": {
    "name": "ipython",
    "version": 3
   },
   "file_extension": ".py",
   "mimetype": "text/x-python",
   "name": "python",
   "nbconvert_exporter": "python",
   "pygments_lexer": "ipython3",
   "version": "3.8.8"
  }
 },
 "nbformat": 4,
 "nbformat_minor": 5
}
