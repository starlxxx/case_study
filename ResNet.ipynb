{
 "cells": [
  {
   "cell_type": "code",
   "execution_count": 2,
   "id": "4b8e8dc4",
   "metadata": {},
   "outputs": [],
   "source": [
    "import tensorflow as tf\n",
    "from tensorflow.keras import optimizers, metrics, layers, datasets,Sequential\n",
    "from tensorflow import keras"
   ]
  },
  {
   "cell_type": "code",
   "execution_count": 3,
   "id": "644f3a9c",
   "metadata": {},
   "outputs": [],
   "source": [
    "class BasicBlock(layers.Layer):\n",
    "\n",
    "    def __init__(self ,filter_num ,stride=1):\n",
    "        # 延用父类的方法\n",
    "        super(BasicBlock ,self).__init__()\n",
    "\n",
    "        self.conv1 = layers.Conv2D(filter_num, kernel_size = [3 ,3], strides = stride, padding = 'same')\n",
    "        self.bn1 = layers.BatchNormalization()\n",
    "        self.relu = layers.Activation('relu')\n",
    "\n",
    "        self.conv2 = layers.Conv2D(filter_num, kernel_size = [3 ,3], strides = 1, padding = 'same')\n",
    "        self.bn2 = layers.BatchNormalization()\n",
    "        self.relu = layers.Activation('relu')\n",
    "        if stride != 1:\n",
    "            self.downsample = Sequential()\n",
    "            self.downsample.add(layers.Conv2D(filter_num,(1,1), strides = stride, padding='same'))\n",
    "        else:\n",
    "            self.downsample = lambda x: x\n",
    "\n",
    "    def call(self, inputs, training = None):\n",
    "\n",
    "        out = self.conv1(inputs)\n",
    "        out = self.bn1(out)\n",
    "        out =self.relu(out)\n",
    "\n",
    "        out = self.conv2(out)\n",
    "        out = self.bn2(out)\n",
    "        identity = self.downsample(inputs)\n",
    "\n",
    "        output = layers.add([out,identity])\n",
    "\n",
    "        output = tf.nn.relu(output)\n",
    "\n",
    "        return output\n",
    "\n",
    "class ResNet(keras.Model):\n",
    "\n",
    "    def __init__(self,layer_dims,num_classes = 100): # [2,2,2,2]\n",
    "        super(ResNet,self).__init__()\n",
    "        self.stem = Sequential([layers.Conv2D(64,(3,3),strides = (1,1)),\n",
    "                                layers.BatchNormalization(),\n",
    "                                layers.Activation('relu'),\n",
    "                                layers.MaxPool2D(pool_size=(2,2),strides= (1,1),padding='same')])\n",
    "        self.layer1 = self.build_resblock( 64, layer_dims[0])\n",
    "        self.layer2 = self.build_resblock( 128, layer_dims[1],stride= 2)\n",
    "        self.layer3 = self.build_resblock( 256, layer_dims[2],stride = 2)\n",
    "        self.layer4 = self.build_resblock( 512, layer_dims[3],stride = 2)\n",
    "        #output : [b,512,h,w]\n",
    "        self.avgpool = layers.GlobalAveragePooling2D()\n",
    "        # [b,512,1,1]\n",
    "        self.fc = layers.Dense(num_classes)\n",
    "\n",
    "    def call(self,inputs, training = None):\n",
    "        x = self.stem(inputs)\n",
    "        x = self.layer1(x)\n",
    "        x = self.layer2(x)\n",
    "        x = self.layer3(x)\n",
    "        x = self.layer4(x)\n",
    "        # [b,c]\n",
    "        x = self.avgpool(x)\n",
    "        # 【b,100]\n",
    "        x =self.fc(x)\n",
    "\n",
    "        return x\n",
    "\n",
    "    def build_resblock(self,filter_num,blocks,stride =1):\n",
    "        res_blocks = Sequential()\n",
    "        res_blocks.add(BasicBlock(filter_num,stride = stride))\n",
    "\n",
    "        for _ in range(1,blocks):\n",
    "            res_blocks.add(BasicBlock(filter_num,stride = 1))\n",
    "\n",
    "        return res_blocks\n",
    "\n",
    "def resnet18():\n",
    "    return ResNet([2,2,2,2])"
   ]
  },
  {
   "cell_type": "code",
   "execution_count": 4,
   "id": "bdfb664e",
   "metadata": {},
   "outputs": [],
   "source": [
    "import os\n",
    "os.environ[\"TF_CPP_MIN_LOG_LEVEL\"] = \"2\""
   ]
  },
  {
   "cell_type": "code",
   "execution_count": 5,
   "id": "b6a17992",
   "metadata": {},
   "outputs": [],
   "source": [
    "(x,y),(x_val,y_val) = datasets.mnist.load_data()"
   ]
  },
  {
   "cell_type": "code",
   "execution_count": 6,
   "id": "906c14b5",
   "metadata": {},
   "outputs": [],
   "source": [
    "x = tf.reshape(x,[-1 ,28,28,1])"
   ]
  },
  {
   "cell_type": "code",
   "execution_count": 8,
   "id": "fada6689",
   "metadata": {},
   "outputs": [],
   "source": [
    "def preprocess(x,y):\n",
    "    x = 2*tf.cast(x,dtype = tf.float32) / 255. -1\n",
    "    y = tf.cast(y,dtype= tf.int32)\n",
    "    return x,y  "
   ]
  },
  {
   "cell_type": "code",
   "execution_count": 9,
   "id": "602d4539",
   "metadata": {},
   "outputs": [],
   "source": [
    "train_db = tf.data.Dataset.from_tensor_slices((x,y))\n",
    "train_db = train_db.shuffle(1000).map(preprocess).batch(128)\n",
    "test_db = tf.data.Dataset.from_tensor_slices((x_val,y_val))\n",
    "test_db = train_db.map(preprocess).batch(128)"
   ]
  },
  {
   "cell_type": "code",
   "execution_count": 11,
   "id": "0f13c532",
   "metadata": {},
   "outputs": [],
   "source": [
    "model = resnet18()\n",
    "model.build(input_shape=[None,28,28,1])\n",
    "optimizer = optimizers.Adam(learning_rate=1e-3)"
   ]
  },
  {
   "cell_type": "code",
   "execution_count": null,
   "id": "bc8f0087",
   "metadata": {},
   "outputs": [],
   "source": [
    "for epoch in range(20):\n",
    "    for step,(x,y) in enumerate(train_db):\n",
    "        with tf.GradientTape() as tape:\n",
    "            logits = model(x) \n",
    "            y_onehot = tf.one_hot(y,depth = 100)\n",
    "            loss = tf.losses.categorical_crossentropy(y_onehot,logits,from_logits= True)\n",
    "            loss = tf.reduce_mean(loss)\n",
    "        grads = tape.gradient(loss,model.trainable_variables)\n",
    "        optimizer.apply_gradients(zip(grads,model.trainable_variables))\n",
    "        if step % 100 ==0:\n",
    "            print(epoch,step,'loss',loss)\n",
    "    #\n",
    "    total_num = 0\n",
    "    total_corrext = 0\n",
    "    for x,y in test_db:\n",
    "   \n",
    "        logits = model(x)\n",
    "        pro = tf.nn.softmax(logits,axis =1)\n",
    "        pred = tf.argmax(prob,axis =1)\n",
    "        pred = tf.cast(pred,dtype=tf.int32)\n",
    "        correct = tf.cast(tf.equal(pred,y),dtype= tf.int32)\n",
    "        correct = tf.reduce_sum(correct)\n",
    "        total_correct += int(correct)\n",
    "        total_num += x.shape[0]\n",
    "    acc = total_correct / total_num\n",
    "    print(epoch,'acc',acc)\n",
    "    "
   ]
  },
  {
   "cell_type": "code",
   "execution_count": null,
   "id": "8529dd8d",
   "metadata": {},
   "outputs": [],
   "source": []
  }
 ],
 "metadata": {
  "kernelspec": {
   "display_name": "Python 3",
   "language": "python",
   "name": "python3"
  },
  "language_info": {
   "codemirror_mode": {
    "name": "ipython",
    "version": 3
   },
   "file_extension": ".py",
   "mimetype": "text/x-python",
   "name": "python",
   "nbconvert_exporter": "python",
   "pygments_lexer": "ipython3",
   "version": "3.8.8"
  }
 },
 "nbformat": 4,
 "nbformat_minor": 5
}
